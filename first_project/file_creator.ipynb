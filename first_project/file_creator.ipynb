{
 "cells": [
  {
   "cell_type": "code",
   "execution_count": 1,
   "metadata": {},
   "outputs": [],
   "source": [
    "import os,sys\n",
    "import shutil"
   ]
  },
  {
   "cell_type": "code",
   "execution_count": 5,
   "metadata": {},
   "outputs": [
    {
     "name": "stdout",
     "output_type": "stream",
     "text": [
      "moved'Copy of AP_elections_mastersheet.xlsx'to 'D:\\Images\\xlsx'\n",
      "skipped '{filename}' as it doesn't have any extension\n",
      "moved'Correlation_Tables_and_Graphs.docx'to 'D:\\Images\\docx'\n",
      "skipped '{filename}' as it doesn't have any extension\n",
      "moved'DALL·E 2024-02-02 18.56.43 - Enhance the revised logo for _Gaajarla Sheshugoud_ by making it brighter and more vibrant. Ensure the initials 'GS' remain prominently embedded over t.png'to 'D:\\Images\\png'\n",
      "skipped '{filename}' as it doesn't have any extension\n",
      "moved'Dams.pdf'to 'D:\\Images\\pdf'\n",
      "skipped '{filename}' as it doesn't have any extension\n",
      "moved'WhatsApp Image 2024-01-02 at 10.54.57_0076bf7c.jpg'to 'D:\\Images\\jpg'\n",
      "skipped '{filename}' as it doesn't have any extension\n"
     ]
    }
   ],
   "source": [
    "def get_file_extension(filename):\n",
    "    _, extension = os.path.splitext(filename)\n",
    "    return extension\n",
    "\n",
    "def create_directory(directory_path):\n",
    "    if not os.path.exists(directory_path):\n",
    "        os.makedirs(directory_path)\n",
    "        \n",
    "def organize_files(source_directory):\n",
    "    if not os.path.exists(source_directory):\n",
    "        print(\"Source Dierctory not exists..\")\n",
    "        return\n",
    "    for filename in os.listdir(source_directory):\n",
    "        file_path = os.path.join(source_directory, filename)\n",
    "        if os.path.isfile(file_path):\n",
    "            extension = get_file_extension(filename)\n",
    "            if extension:\n",
    "                destination_directory = os.path.join(source_directory,extension[1:])\n",
    "                create_directory(destination_directory)\n",
    "            try:\n",
    "                shutil.move(file_path,os.path.join(destination_directory,filename))\n",
    "                print(f\"moved'{filename}'to '{destination_directory}'\")\n",
    "            except Exception as e:\n",
    "                print(f\"Error during Moving '{filename}'to '{destination_directory}' : {e}\")\n",
    "            else:\n",
    "                print(\"skipped '{filename}' as it doesn't have any extension\")\n",
    "        \n",
    "        else:\n",
    "           print(\"skipped '{filename}' as it is not a file\")\n",
    "\n",
    "if __name__ == \"__main__\":\n",
    "    source_directory = input(\"Enter the source directorty path\")\n",
    "    organize_files(source_directory)"
   ]
  },
  {
   "cell_type": "code",
   "execution_count": null,
   "metadata": {},
   "outputs": [],
   "source": []
  },
  {
   "cell_type": "code",
   "execution_count": null,
   "metadata": {},
   "outputs": [],
   "source": []
  },
  {
   "cell_type": "code",
   "execution_count": null,
   "metadata": {},
   "outputs": [],
   "source": []
  },
  {
   "cell_type": "code",
   "execution_count": null,
   "metadata": {},
   "outputs": [],
   "source": []
  },
  {
   "cell_type": "code",
   "execution_count": null,
   "metadata": {},
   "outputs": [],
   "source": []
  },
  {
   "cell_type": "code",
   "execution_count": null,
   "metadata": {},
   "outputs": [],
   "source": []
  }
 ],
 "metadata": {
  "kernelspec": {
   "display_name": "Python 3",
   "language": "python",
   "name": "python3"
  },
  "language_info": {
   "codemirror_mode": {
    "name": "ipython",
    "version": 3
   },
   "file_extension": ".py",
   "mimetype": "text/x-python",
   "name": "python",
   "nbconvert_exporter": "python",
   "pygments_lexer": "ipython3",
   "version": "3.8.18"
  }
 },
 "nbformat": 4,
 "nbformat_minor": 2
}
