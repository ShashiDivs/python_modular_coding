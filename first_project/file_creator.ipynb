{
 "cells": [
  {
   "cell_type": "code",
   "execution_count": 1,
   "metadata": {},
   "outputs": [],
   "source": [
    "import os,sys\n",
    "import shutil"
   ]
  },
  {
   "cell_type": "code",
   "execution_count": 3,
   "metadata": {},
   "outputs": [],
   "source": [
    "def get_file_extension(filename):\n",
    "    _, extension = os.path.splitext(filename)\n",
    "    return extension\n",
    "def create_directory(directory_path):\n",
    "    if not os.path.exists(directory_path):\n",
    "        os.makedirs(directory_path)\n",
    "def organize_files(source_directory):\n",
    "    if not os.path.exists(source_directory):\n",
    "        print(\"Source Dierctory not exists..\")\n",
    "        return\n",
    "    for filename in os.listdir(source_directory):\n",
    "        file_path = os.path.join(source_directory, filename)\n",
    "        if os.path.isfile(file_path):\n",
    "            extension = get_file_extension(filename)\n",
    "            if extension:\n",
    "                destination_directory = os.path.join(source_directory,extension[1:])\n",
    "                create_directory(destination_directory)\n",
    "            try:\n",
    "                shutil.move(file_path,os.path.join(destination_directory,filename))\n",
    "                print(f\"moved'{filename}'to '{destination_directory}'\")\n",
    "            except Exception as e:\n",
    "                print(f\"Error during Moving '{filename}'to '{destination_directory}' : {e}\")\n",
    "            else:\n",
    "                print(\"skipped '{filename}' as it doesn't have any extension\")\n",
    "        \n",
    "        else:\n",
    "           print(\"skipped '{filename}' as it is not a file\")"
   ]
  }
 ],
 "metadata": {
  "kernelspec": {
   "display_name": "Python 3",
   "language": "python",
   "name": "python3"
  },
  "language_info": {
   "codemirror_mode": {
    "name": "ipython",
    "version": 3
   },
   "file_extension": ".py",
   "mimetype": "text/x-python",
   "name": "python",
   "nbconvert_exporter": "python",
   "pygments_lexer": "ipython3",
   "version": "3.8.18"
  }
 },
 "nbformat": 4,
 "nbformat_minor": 2
}
